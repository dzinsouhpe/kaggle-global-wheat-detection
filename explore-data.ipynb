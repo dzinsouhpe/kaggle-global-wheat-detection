{
 "cells": [
  {
   "cell_type": "code",
   "execution_count": 1,
   "metadata": {},
   "outputs": [
    {
     "name": "stdout",
     "output_type": "stream",
     "text": [
      "Starting Spark application\n"
     ]
    },
    {
     "data": {
      "text/html": [
       "<table>\n",
       "<tr><th>ID</th><th>YARN Application ID</th><th>Kind</th><th>State</th><th>Spark UI</th><th>Driver log</th><th>Current session?</th></tr><tr><td>9</td><td>None</td><td>spark</td><td>idle</td><td></td><td></td><td>✔</td></tr></table>"
      ],
      "text/plain": [
       "<IPython.core.display.HTML object>"
      ]
     },
     "metadata": {},
     "output_type": "display_data"
    },
    {
     "data": {
      "application/vnd.jupyter.widget-view+json": {
       "model_id": "",
       "version_major": 2,
       "version_minor": 0
      },
      "text/plain": [
       "FloatProgress(value=0.0, bar_style='info', description='Progress:', layout=Layout(height='25px', width='50%'),…"
      ]
     },
     "metadata": {},
     "output_type": "display_data"
    },
    {
     "name": "stdout",
     "output_type": "stream",
     "text": [
      "SparkSession available as 'spark'.\n"
     ]
    },
    {
     "data": {
      "application/vnd.jupyter.widget-view+json": {
       "model_id": "",
       "version_major": 2,
       "version_minor": 0
      },
      "text/plain": [
       "FloatProgress(value=0.0, bar_style='info', description='Progress:', layout=Layout(height='25px', width='50%'),…"
      ]
     },
     "metadata": {},
     "output_type": "display_data"
    },
    {
     "name": "stdout",
     "output_type": "stream",
     "text": [
      "res1: org.apache.spark.sql.SparkSession = org.apache.spark.sql.SparkSession@5c4f9e33\n"
     ]
    }
   ],
   "source": [
    "spark"
   ]
  },
  {
   "cell_type": "code",
   "execution_count": 2,
   "metadata": {},
   "outputs": [
    {
     "data": {
      "application/vnd.jupyter.widget-view+json": {
       "model_id": "",
       "version_major": 2,
       "version_minor": 0
      },
      "text/plain": [
       "FloatProgress(value=0.0, bar_style='info', description='Progress:', layout=Layout(height='25px', width='50%'),…"
      ]
     },
     "metadata": {},
     "output_type": "display_data"
    },
    {
     "name": "stdout",
     "output_type": "stream",
     "text": [
      "trainDF: org.apache.spark.sql.DataFrame = [image: struct<origin: string, height: int ... 4 more fields>]\n"
     ]
    }
   ],
   "source": [
    "val trainDF = spark.read.format(\"image\").load(\"file:///bd-fs-mnt/TenantShare/kaggle-gwd/train\")"
   ]
  },
  {
   "cell_type": "code",
   "execution_count": 3,
   "metadata": {},
   "outputs": [
    {
     "data": {
      "application/vnd.jupyter.widget-view+json": {
       "model_id": "",
       "version_major": 2,
       "version_minor": 0
      },
      "text/plain": [
       "FloatProgress(value=0.0, bar_style='info', description='Progress:', layout=Layout(height='25px', width='50%'),…"
      ]
     },
     "metadata": {},
     "output_type": "display_data"
    },
    {
     "name": "stdout",
     "output_type": "stream",
     "text": [
      "root\n",
      " |-- image: struct (nullable = true)\n",
      " |    |-- origin: string (nullable = true)\n",
      " |    |-- height: integer (nullable = true)\n",
      " |    |-- width: integer (nullable = true)\n",
      " |    |-- nChannels: integer (nullable = true)\n",
      " |    |-- mode: integer (nullable = true)\n",
      " |    |-- data: binary (nullable = true)\n",
      "\n"
     ]
    }
   ],
   "source": [
    "trainDF.printSchema()"
   ]
  },
  {
   "cell_type": "code",
   "execution_count": 4,
   "metadata": {},
   "outputs": [
    {
     "data": {
      "application/vnd.jupyter.widget-view+json": {
       "model_id": "",
       "version_major": 2,
       "version_minor": 0
      },
      "text/plain": [
       "FloatProgress(value=0.0, bar_style='info', description='Progress:', layout=Layout(height='25px', width='50%'),…"
      ]
     },
     "metadata": {},
     "output_type": "display_data"
    },
    {
     "name": "stdout",
     "output_type": "stream",
     "text": [
      "+------+-----+---------+----+\n",
      "|height|width|nChannels|mode|\n",
      "+------+-----+---------+----+\n",
      "|1024  |1024 |3        |16  |\n",
      "|1024  |1024 |3        |16  |\n",
      "|1024  |1024 |3        |16  |\n",
      "|1024  |1024 |3        |16  |\n",
      "|1024  |1024 |3        |16  |\n",
      "|1024  |1024 |3        |16  |\n",
      "|1024  |1024 |3        |16  |\n",
      "|1024  |1024 |3        |16  |\n",
      "|1024  |1024 |3        |16  |\n",
      "|1024  |1024 |3        |16  |\n",
      "+------+-----+---------+----+\n",
      "only showing top 10 rows\n",
      "\n"
     ]
    }
   ],
   "source": [
    "trainDF.select(\"image.height\", \"image.width\", \"image.nChannels\", \"image.mode\").show(10, false)"
   ]
  },
  {
   "cell_type": "code",
   "execution_count": 5,
   "metadata": {},
   "outputs": [
    {
     "data": {
      "application/vnd.jupyter.widget-view+json": {
       "model_id": "",
       "version_major": 2,
       "version_minor": 0
      },
      "text/plain": [
       "FloatProgress(value=0.0, bar_style='info', description='Progress:', layout=Layout(height='25px', width='50%'),…"
      ]
     },
     "metadata": {},
     "output_type": "display_data"
    },
    {
     "name": "stdout",
     "output_type": "stream",
     "text": [
      "trainMetaDF: org.apache.spark.sql.DataFrame = [image_id: string, width: int ... 3 more fields]\n"
     ]
    }
   ],
   "source": [
    "val trainMetaDF = (\n",
    "spark.read.format(\"csv\")\n",
    "  .option(\"sep\", \",\")\n",
    "  .option(\"inferSchema\", \"true\")\n",
    "  .option(\"header\", \"true\")\n",
    "  .load(\"file:///bd-fs-mnt/TenantShare/kaggle-gwd/train.csv\")\n",
    ")"
   ]
  },
  {
   "cell_type": "code",
   "execution_count": 6,
   "metadata": {},
   "outputs": [
    {
     "data": {
      "application/vnd.jupyter.widget-view+json": {
       "model_id": "",
       "version_major": 2,
       "version_minor": 0
      },
      "text/plain": [
       "FloatProgress(value=0.0, bar_style='info', description='Progress:', layout=Layout(height='25px', width='50%'),…"
      ]
     },
     "metadata": {},
     "output_type": "display_data"
    },
    {
     "name": "stdout",
     "output_type": "stream",
     "text": [
      "root\n",
      " |-- image_id: string (nullable = true)\n",
      " |-- width: integer (nullable = true)\n",
      " |-- height: integer (nullable = true)\n",
      " |-- bbox: string (nullable = true)\n",
      " |-- source: string (nullable = true)\n",
      "\n"
     ]
    }
   ],
   "source": [
    "trainMetaDF.printSchema()"
   ]
  },
  {
   "cell_type": "code",
   "execution_count": 7,
   "metadata": {},
   "outputs": [
    {
     "data": {
      "application/vnd.jupyter.widget-view+json": {
       "model_id": "",
       "version_major": 2,
       "version_minor": 0
      },
      "text/plain": [
       "FloatProgress(value=0.0, bar_style='info', description='Progress:', layout=Layout(height='25px', width='50%'),…"
      ]
     },
     "metadata": {},
     "output_type": "display_data"
    },
    {
     "name": "stdout",
     "output_type": "stream",
     "text": [
      "+---------+-----+------+----------------------------+-------+\n",
      "|image_id |width|height|bbox                        |source |\n",
      "+---------+-----+------+----------------------------+-------+\n",
      "|b6ab77fd7|1024 |1024  |[834.0, 222.0, 56.0, 36.0]  |usask_1|\n",
      "|b6ab77fd7|1024 |1024  |[226.0, 548.0, 130.0, 58.0] |usask_1|\n",
      "|b6ab77fd7|1024 |1024  |[377.0, 504.0, 74.0, 160.0] |usask_1|\n",
      "|b6ab77fd7|1024 |1024  |[834.0, 95.0, 109.0, 107.0] |usask_1|\n",
      "|b6ab77fd7|1024 |1024  |[26.0, 144.0, 124.0, 117.0] |usask_1|\n",
      "|b6ab77fd7|1024 |1024  |[569.0, 382.0, 119.0, 111.0]|usask_1|\n",
      "|b6ab77fd7|1024 |1024  |[52.0, 602.0, 82.0, 45.0]   |usask_1|\n",
      "|b6ab77fd7|1024 |1024  |[627.0, 302.0, 122.0, 75.0] |usask_1|\n",
      "|b6ab77fd7|1024 |1024  |[412.0, 367.0, 68.0, 82.0]  |usask_1|\n",
      "|b6ab77fd7|1024 |1024  |[953.0, 220.0, 56.0, 103.0] |usask_1|\n",
      "+---------+-----+------+----------------------------+-------+\n",
      "only showing top 10 rows\n",
      "\n"
     ]
    }
   ],
   "source": [
    "trainMetaDF.show(10, false)"
   ]
  },
  {
   "cell_type": "code",
   "execution_count": 8,
   "metadata": {},
   "outputs": [
    {
     "data": {
      "application/vnd.jupyter.widget-view+json": {
       "model_id": "",
       "version_major": 2,
       "version_minor": 0
      },
      "text/plain": [
       "FloatProgress(value=0.0, bar_style='info', description='Progress:', layout=Layout(height='25px', width='50%'),…"
      ]
     },
     "metadata": {},
     "output_type": "display_data"
    },
    {
     "name": "stdout",
     "output_type": "stream",
     "text": [
      "img_array: org.apache.spark.rdd.RDD[Byte] = MapPartitionsRDD[23] at flatMap at <console>:26\n"
     ]
    }
   ],
   "source": [
    "val img_array = (trainDF.select(col(\"image.data\"))\n",
    "      .rdd.flatMap(f => f.getAs[Array[Byte]](\"data\")))"
   ]
  },
  {
   "cell_type": "code",
   "execution_count": 9,
   "metadata": {},
   "outputs": [
    {
     "data": {
      "application/vnd.jupyter.widget-view+json": {
       "model_id": "142dccf1cd6f4cf38356842a20889e8c",
       "version_major": 2,
       "version_minor": 0
      },
      "text/plain": [
       "FloatProgress(value=0.0, bar_style='info', description='Progress:', layout=Layout(height='25px', width='50%'),…"
      ]
     },
     "metadata": {},
     "output_type": "display_data"
    },
    {
     "name": "stderr",
     "output_type": "stream",
     "text": [
      "An error was encountered:\n",
      "Error sending http request and maximum retry encountered.\n"
     ]
    }
   ],
   "source": [
    "val img_data = (trainDF.select(col(\"image.*\"))\n",
    "      .rdd.map(row => (\n",
    "        row.getAs[Int](\"height\"),\n",
    "        row.getAs[Int](\"width\"),\n",
    "        row.getAs[Int](\"nChannels\"),\n",
    "        row.getAs[Array[Byte]](\"data\")))\n",
    "      .collect()(0))"
   ]
  },
  {
   "cell_type": "code",
   "execution_count": null,
   "metadata": {},
   "outputs": [],
   "source": []
  }
 ],
 "metadata": {
  "kernelspec": {
   "display_name": "Spark",
   "language": "",
   "name": "sparkkernel"
  },
  "language_info": {
   "codemirror_mode": "text/x-scala",
   "mimetype": "text/x-scala",
   "name": "scala",
   "pygments_lexer": "scala"
  }
 },
 "nbformat": 4,
 "nbformat_minor": 4
}
